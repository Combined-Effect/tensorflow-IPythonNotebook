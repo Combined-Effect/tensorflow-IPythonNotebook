{
 "cells": [
  {
   "cell_type": "code",
   "execution_count": 1,
   "metadata": {
    "collapsed": true
   },
   "outputs": [],
   "source": [
    "import numpy as np\n",
    "import copy\n",
    "import sys\n",
    "from ale_python_interface import ALEInterface\n",
    "import cv2\n",
    "import time"
   ]
  },
  {
   "cell_type": "code",
   "execution_count": 2,
   "metadata": {
    "collapsed": true
   },
   "outputs": [],
   "source": [
    "ale = ALEInterface()"
   ]
  },
  {
   "cell_type": "code",
   "execution_count": 3,
   "metadata": {
    "collapsed": false
   },
   "outputs": [],
   "source": [
    "max_frames_per_episode = ale.getInt(\"max_num_frames_per_episode\")"
   ]
  },
  {
   "cell_type": "code",
   "execution_count": 4,
   "metadata": {
    "collapsed": true
   },
   "outputs": [],
   "source": [
    "ale.setInt(\"random_seed\",123)\n",
    "ale.setInt(\"frame_skip\",4)"
   ]
  },
  {
   "cell_type": "code",
   "execution_count": 5,
   "metadata": {
    "collapsed": false
   },
   "outputs": [],
   "source": [
    "rom_name = 'breakout.bin'\n",
    "ale.loadROM('roms/' + rom_name)"
   ]
  },
  {
   "cell_type": "code",
   "execution_count": 6,
   "metadata": {
    "collapsed": false
   },
   "outputs": [
    {
     "name": "stdout",
     "output_type": "stream",
     "text": [
      "[0 1 3 4]\n"
     ]
    }
   ],
   "source": [
    "legal_actions = ale.getMinimalActionSet()\n",
    "print(legal_actions)"
   ]
  },
  {
   "cell_type": "code",
   "execution_count": 7,
   "metadata": {
    "collapsed": true
   },
   "outputs": [],
   "source": [
    "action_map = dict()\n",
    "for i in range(len(legal_actions)):\n",
    "\taction_map[legal_actions[i]] = i"
   ]
  },
  {
   "cell_type": "code",
   "execution_count": 8,
   "metadata": {
    "collapsed": false
   },
   "outputs": [
    {
     "name": "stdout",
     "output_type": "stream",
     "text": [
      "widhth/height: 160/210\n"
     ]
    }
   ],
   "source": [
    "screen_width, screen_height = ale.getScreenDims()\n",
    "print(\"widhth/height: \" + str(screen_width) + \"/\" + str(screen_height))"
   ]
  },
  {
   "cell_type": "code",
   "execution_count": 9,
   "metadata": {
    "collapsed": true
   },
   "outputs": [],
   "source": [
    "cv2.startWindowThread()\n",
    "cv2.namedWindow(\"preview\")"
   ]
  },
  {
   "cell_type": "code",
   "execution_count": 10,
   "metadata": {
    "collapsed": false,
    "scrolled": true
   },
   "outputs": [
    {
     "name": "stdout",
     "output_type": "stream",
     "text": [
      "Episode 0 ended with score: 0.0\n",
      "Episode 1 ended with score: 0.0\n",
      "Episode 2 ended with score: 1.0\n",
      "Episode 3 ended with score: 0.0\n",
      "Episode 4 ended with score: 1.0\n",
      "Episode 5 ended with score: 2.0\n",
      "Episode 6 ended with score: 0.0\n",
      "Episode 7 ended with score: 2.0\n",
      "Episode 8 ended with score: 0.0\n",
      "Episode 9 ended with score: 0.0\n"
     ]
    }
   ],
   "source": [
    "for episode in range(10):\n",
    "    total_reward = 0.0\n",
    "    while not ale.game_over():\n",
    "        a = legal_actions[np.random.randint(legal_actions.size)]\n",
    "        reward = ale.act(a);\n",
    "        total_reward += reward\n",
    "    print(\"Episode \" + str(episode) + \" ended with score: \" + str(total_reward))\n",
    "    ale.reset_game()"
   ]
  },
  {
   "cell_type": "code",
   "execution_count": 11,
   "metadata": {
    "collapsed": false
   },
   "outputs": [],
   "source": [
    "numpy_surface = np.zeros(screen_height*screen_width*3, dtype=np.uint8)\n",
    "ale.getScreenRGB(numpy_surface)\n",
    "image = np.reshape(numpy_surface, (screen_height, screen_width, 3))"
   ]
  },
  {
   "cell_type": "code",
   "execution_count": 12,
   "metadata": {
    "collapsed": true
   },
   "outputs": [],
   "source": [
    "cv2.imshow('preview', image)"
   ]
  },
  {
   "cell_type": "code",
   "execution_count": 13,
   "metadata": {
    "collapsed": true
   },
   "outputs": [],
   "source": [
    "import tensorflow as tf\n",
    "sess = tf.InteractiveSession()"
   ]
  },
  {
   "cell_type": "code",
   "execution_count": 14,
   "metadata": {
    "collapsed": true
   },
   "outputs": [],
   "source": [
    "params = {\n",
    "#    'ckpt_file':None,\n",
    "    'num_episodes': 250000,\n",
    "    'rms_decay':0.99,\n",
    "    'rms_eps':1e-6,\n",
    "    'db_size': 1000000,\n",
    "    'batch': 32,\n",
    "    'num_act': 0,\n",
    "    'input_dims' : [210, 160, 3],\n",
    "    'input_dims_proc' : [84, 84, 4],\n",
    "    'episode_max_length': 100000,\n",
    "    'learning_interval': 1,\n",
    "    'eps': 1.0,\n",
    "    'eps_step':1000000,\n",
    "    'discount': 0.95,\n",
    "    'lr': 0.0002,\n",
    "    'save_interval':20000,\n",
    "    'train_start':100,\n",
    "    'eval_mode':False\n",
    "}"
   ]
  },
  {
   "cell_type": "code",
   "execution_count": 15,
   "metadata": {
    "collapsed": false
   },
   "outputs": [],
   "source": [
    "# placeholders\n",
    "x = tf.placeholder('float', [None,84,84,4])\n",
    "q_t = tf.placeholder('float', [None])\n",
    "actions = tf.placeholder(\"float\", [None, params['num_act']])\n",
    "rewards = tf.placeholder(\"float\", [None])\n",
    "terminals = tf.placeholder(\"float\", [None])"
   ]
  },
  {
   "cell_type": "code",
   "execution_count": 17,
   "metadata": {
    "collapsed": false
   },
   "outputs": [],
   "source": [
    "# conv1\n",
    "size = 8 \n",
    "channels = 4 \n",
    "filters = 16 \n",
    "stride = 4\n",
    "\n",
    "w1 = tf.Variable(tf.random_normal([size, size, channels, filters], stddev=0.01))\n",
    "b1 = tf.Variable(tf.constant(0.1, shape=[filters]))\n",
    "c1 = tf.nn.conv2d(x, w1, strides=[1, stride, stride, 1], padding='SAME')\n",
    "o1 = tf.nn.relu(tf.add(c1, b1))"
   ]
  },
  {
   "cell_type": "code",
   "execution_count": 21,
   "metadata": {
    "collapsed": false
   },
   "outputs": [],
   "source": [
    "# conv2\n",
    "size = 4\n",
    "channels = 16\n",
    "filters = 32\n",
    "stride = 2\n",
    "\n",
    "w2 = tf.Variable(tf.random_normal([size, size, channels, filters], stddev=0.01))\n",
    "b2 = tf.Variable(tf.constant(0.1, shape=[filters]))\n",
    "c2 = tf.nn.conv2d(o1, w2, strides=[1, stride, stride, 1], padding='SAME')\n",
    "o2 = tf.nn.relu(tf.add(c2, b2))"
   ]
  },
  {
   "cell_type": "code",
   "execution_count": 23,
   "metadata": {
    "collapsed": false
   },
   "outputs": [],
   "source": [
    "# flat\n",
    "o2_shape = o2.get_shape().as_list() "
   ]
  },
  {
   "cell_type": "code",
   "execution_count": 25,
   "metadata": {
    "collapsed": false
   },
   "outputs": [],
   "source": [
    "# fc3\n",
    "hiddens = 256\n",
    "\n",
    "dim = o2_shape[1]*o2_shape[2]*o2_shape[3]\n",
    "o2_flat = tf.reshape(o2, [-1,dim])\n",
    "w3 = tf.Variable(tf.random_normal([dim,hiddens], stddev=0.01))\n",
    "b3 = tf.Variable(tf.constant(0.1, shape=[hiddens]))\n",
    "ip3 = tf.add(tf.matmul(o2_flat, w3), b3)\n",
    "o3 = tf.nn.relu(ip3)"
   ]
  },
  {
   "cell_type": "code",
   "execution_count": 26,
   "metadata": {
    "collapsed": true
   },
   "outputs": [],
   "source": [
    "#fc4\n",
    "hiddens = params['num_act']\n",
    "dim = 256\n",
    "\n",
    "w4 = tf.Variable(tf.random_normal([dim,hiddens], stddev=0.01))\n",
    "b4 = tf.Variable(tf.constant(0.1, shape=[hiddens]))\n",
    "y = tf.add(tf.matmul(o3, w4), b4)"
   ]
  },
  {
   "cell_type": "code",
   "execution_count": 27,
   "metadata": {
    "collapsed": true
   },
   "outputs": [],
   "source": [
    "#Q,Cost,Optimizer\n",
    "\n",
    "discount = tf.constant(params['discount'])\n",
    "yj = tf.add(rewards, tf.mul(1.0-terminals, tf.mul(discount, q_t)))\n",
    "Q_pred = tf.reduce_sum(tf.mul(y, actions), reduction_indices=1)\n",
    "cost = tf.reduce_sum(tf.pow(tf.sub(yj, Q_pred), 2))"
   ]
  },
  {
   "cell_type": "code",
   "execution_count": 32,
   "metadata": {
    "collapsed": false
   },
   "outputs": [],
   "source": [
    "#if params['ckpt_file'] is not None:\n",
    "#    global_step = tf.Variable(int(params['ckpt_file'].split('_')[-1]), trainable=False)\n",
    "#else:\n",
    "#    global_step = tf.Variable(0, trainable=False)\n",
    "    \n",
    "global_step = tf.Variable(0, trainable=False)    \n",
    "rmsprop = tf.train.RMSPropOptimizer(params['lr'], params['rms_decay'], 0.0, params['rms_eps']).minimize(cost, global_step)\n",
    "sess.run(tf.initialize_all_variables())\n",
    "\n",
    "#if params['ckpt_file'] is not None:\n",
    "#    print 'loading checkpoint...'\n",
    "#    saver = tf.train.Saver()\n",
    "#    saver.restore(sess, params['ckpt_file'])"
   ]
  },
  {
   "cell_type": "code",
   "execution_count": null,
   "metadata": {
    "collapsed": true
   },
   "outputs": [],
   "source": []
  }
 ],
 "metadata": {
  "kernelspec": {
   "display_name": "Python 2",
   "language": "python",
   "name": "python2"
  },
  "language_info": {
   "codemirror_mode": {
    "name": "ipython",
    "version": 2
   },
   "file_extension": ".py",
   "mimetype": "text/x-python",
   "name": "python",
   "nbconvert_exporter": "python",
   "pygments_lexer": "ipython2",
   "version": "2.7.6"
  }
 },
 "nbformat": 4,
 "nbformat_minor": 0
}
